{
 "cells": [
  {
   "cell_type": "markdown",
   "metadata": {},
   "source": [
    "### Assignment 1 (4 scores):\n",
    "\n",
    "- Use Numpy only to construct the Logistic Regression model.\n",
    "- Train that Logistic Regression model dataset using the Gradient Descend approach on the [Predict students’ dropout and academic success](https://archive.ics.uci.edu/dataset/697/predict+students+dropout+and+academic+success) dataset. *Note that three class in this dataset must be merge into two class as: graduate and non-graduate (dropout or enroll)*.\n",
    "- Evaluate that Logistic Regression model on the [Predict students’ dropout and academic success](https://archive.ics.uci.edu/dataset/697/predict+students+dropout+and+academic+success) dataset.\n",
    "- Visualize the loss function of the training process."
   ]
  },
  {
   "cell_type": "code",
   "execution_count": 1,
   "metadata": {},
   "outputs": [],
   "source": [
    "import numpy as np\n",
    "import pandas as pd\n",
    "import seaborn as sns\n",
    "import matplotlib.pyplot as plt"
   ]
  },
  {
   "cell_type": "code",
   "execution_count": 2,
   "metadata": {},
   "outputs": [
    {
     "data": {
      "application/vnd.microsoft.datawrangler.viewer.v0+json": {
       "columns": [
        {
         "name": "index",
         "rawType": "int64",
         "type": "integer"
        },
        {
         "name": "Marital status",
         "rawType": "int64",
         "type": "integer"
        },
        {
         "name": "Application mode",
         "rawType": "int64",
         "type": "integer"
        },
        {
         "name": "Application order",
         "rawType": "int64",
         "type": "integer"
        },
        {
         "name": "Course",
         "rawType": "int64",
         "type": "integer"
        },
        {
         "name": "Daytime/evening attendance\t",
         "rawType": "int64",
         "type": "integer"
        },
        {
         "name": "Previous qualification",
         "rawType": "int64",
         "type": "integer"
        },
        {
         "name": "Previous qualification (grade)",
         "rawType": "float64",
         "type": "float"
        },
        {
         "name": "Nacionality",
         "rawType": "int64",
         "type": "integer"
        },
        {
         "name": "Mother's qualification",
         "rawType": "int64",
         "type": "integer"
        },
        {
         "name": "Father's qualification",
         "rawType": "int64",
         "type": "integer"
        },
        {
         "name": "Mother's occupation",
         "rawType": "int64",
         "type": "integer"
        },
        {
         "name": "Father's occupation",
         "rawType": "int64",
         "type": "integer"
        },
        {
         "name": "Admission grade",
         "rawType": "float64",
         "type": "float"
        },
        {
         "name": "Displaced",
         "rawType": "int64",
         "type": "integer"
        },
        {
         "name": "Educational special needs",
         "rawType": "int64",
         "type": "integer"
        },
        {
         "name": "Debtor",
         "rawType": "int64",
         "type": "integer"
        },
        {
         "name": "Tuition fees up to date",
         "rawType": "int64",
         "type": "integer"
        },
        {
         "name": "Gender",
         "rawType": "int64",
         "type": "integer"
        },
        {
         "name": "Scholarship holder",
         "rawType": "int64",
         "type": "integer"
        },
        {
         "name": "Age at enrollment",
         "rawType": "int64",
         "type": "integer"
        },
        {
         "name": "International",
         "rawType": "int64",
         "type": "integer"
        },
        {
         "name": "Curricular units 1st sem (credited)",
         "rawType": "int64",
         "type": "integer"
        },
        {
         "name": "Curricular units 1st sem (enrolled)",
         "rawType": "int64",
         "type": "integer"
        },
        {
         "name": "Curricular units 1st sem (evaluations)",
         "rawType": "int64",
         "type": "integer"
        },
        {
         "name": "Curricular units 1st sem (approved)",
         "rawType": "int64",
         "type": "integer"
        },
        {
         "name": "Curricular units 1st sem (grade)",
         "rawType": "float64",
         "type": "float"
        },
        {
         "name": "Curricular units 1st sem (without evaluations)",
         "rawType": "int64",
         "type": "integer"
        },
        {
         "name": "Curricular units 2nd sem (credited)",
         "rawType": "int64",
         "type": "integer"
        },
        {
         "name": "Curricular units 2nd sem (enrolled)",
         "rawType": "int64",
         "type": "integer"
        },
        {
         "name": "Curricular units 2nd sem (evaluations)",
         "rawType": "int64",
         "type": "integer"
        },
        {
         "name": "Curricular units 2nd sem (approved)",
         "rawType": "int64",
         "type": "integer"
        },
        {
         "name": "Curricular units 2nd sem (grade)",
         "rawType": "float64",
         "type": "float"
        },
        {
         "name": "Curricular units 2nd sem (without evaluations)",
         "rawType": "int64",
         "type": "integer"
        },
        {
         "name": "Unemployment rate",
         "rawType": "float64",
         "type": "float"
        },
        {
         "name": "Inflation rate",
         "rawType": "float64",
         "type": "float"
        },
        {
         "name": "GDP",
         "rawType": "float64",
         "type": "float"
        },
        {
         "name": "Target",
         "rawType": "object",
         "type": "string"
        }
       ],
       "ref": "b24fecb7-8fc2-45dc-bf8c-dadead800d55",
       "rows": [
        [
         "0",
         "1",
         "17",
         "5",
         "171",
         "1",
         "1",
         "122.0",
         "1",
         "19",
         "12",
         "5",
         "9",
         "127.3",
         "1",
         "0",
         "0",
         "1",
         "1",
         "0",
         "20",
         "0",
         "0",
         "0",
         "0",
         "0",
         "0.0",
         "0",
         "0",
         "0",
         "0",
         "0",
         "0.0",
         "0",
         "10.8",
         "1.4",
         "1.74",
         "Dropout"
        ],
        [
         "1",
         "1",
         "15",
         "1",
         "9254",
         "1",
         "1",
         "160.0",
         "1",
         "1",
         "3",
         "3",
         "3",
         "142.5",
         "1",
         "0",
         "0",
         "0",
         "1",
         "0",
         "19",
         "0",
         "0",
         "6",
         "6",
         "6",
         "14.0",
         "0",
         "0",
         "6",
         "6",
         "6",
         "13.666666666666666",
         "0",
         "13.9",
         "-0.3",
         "0.79",
         "Graduate"
        ],
        [
         "2",
         "1",
         "1",
         "5",
         "9070",
         "1",
         "1",
         "122.0",
         "1",
         "37",
         "37",
         "9",
         "9",
         "124.8",
         "1",
         "0",
         "0",
         "0",
         "1",
         "0",
         "19",
         "0",
         "0",
         "6",
         "0",
         "0",
         "0.0",
         "0",
         "0",
         "6",
         "0",
         "0",
         "0.0",
         "0",
         "10.8",
         "1.4",
         "1.74",
         "Dropout"
        ],
        [
         "3",
         "1",
         "17",
         "2",
         "9773",
         "1",
         "1",
         "122.0",
         "1",
         "38",
         "37",
         "5",
         "3",
         "119.6",
         "1",
         "0",
         "0",
         "1",
         "0",
         "0",
         "20",
         "0",
         "0",
         "6",
         "8",
         "6",
         "13.428571428571429",
         "0",
         "0",
         "6",
         "10",
         "5",
         "12.4",
         "0",
         "9.4",
         "-0.8",
         "-3.12",
         "Graduate"
        ],
        [
         "4",
         "2",
         "39",
         "1",
         "8014",
         "0",
         "1",
         "100.0",
         "1",
         "37",
         "38",
         "9",
         "9",
         "141.5",
         "0",
         "0",
         "0",
         "1",
         "0",
         "0",
         "45",
         "0",
         "0",
         "6",
         "9",
         "5",
         "12.333333333333334",
         "0",
         "0",
         "6",
         "6",
         "6",
         "13.0",
         "0",
         "13.9",
         "-0.3",
         "0.79",
         "Graduate"
        ]
       ],
       "shape": {
        "columns": 37,
        "rows": 5
       }
      },
      "text/html": [
       "<div>\n",
       "<style scoped>\n",
       "    .dataframe tbody tr th:only-of-type {\n",
       "        vertical-align: middle;\n",
       "    }\n",
       "\n",
       "    .dataframe tbody tr th {\n",
       "        vertical-align: top;\n",
       "    }\n",
       "\n",
       "    .dataframe thead th {\n",
       "        text-align: right;\n",
       "    }\n",
       "</style>\n",
       "<table border=\"1\" class=\"dataframe\">\n",
       "  <thead>\n",
       "    <tr style=\"text-align: right;\">\n",
       "      <th></th>\n",
       "      <th>Marital status</th>\n",
       "      <th>Application mode</th>\n",
       "      <th>Application order</th>\n",
       "      <th>Course</th>\n",
       "      <th>Daytime/evening attendance\\t</th>\n",
       "      <th>Previous qualification</th>\n",
       "      <th>Previous qualification (grade)</th>\n",
       "      <th>Nacionality</th>\n",
       "      <th>Mother's qualification</th>\n",
       "      <th>Father's qualification</th>\n",
       "      <th>...</th>\n",
       "      <th>Curricular units 2nd sem (credited)</th>\n",
       "      <th>Curricular units 2nd sem (enrolled)</th>\n",
       "      <th>Curricular units 2nd sem (evaluations)</th>\n",
       "      <th>Curricular units 2nd sem (approved)</th>\n",
       "      <th>Curricular units 2nd sem (grade)</th>\n",
       "      <th>Curricular units 2nd sem (without evaluations)</th>\n",
       "      <th>Unemployment rate</th>\n",
       "      <th>Inflation rate</th>\n",
       "      <th>GDP</th>\n",
       "      <th>Target</th>\n",
       "    </tr>\n",
       "  </thead>\n",
       "  <tbody>\n",
       "    <tr>\n",
       "      <th>0</th>\n",
       "      <td>1</td>\n",
       "      <td>17</td>\n",
       "      <td>5</td>\n",
       "      <td>171</td>\n",
       "      <td>1</td>\n",
       "      <td>1</td>\n",
       "      <td>122.0</td>\n",
       "      <td>1</td>\n",
       "      <td>19</td>\n",
       "      <td>12</td>\n",
       "      <td>...</td>\n",
       "      <td>0</td>\n",
       "      <td>0</td>\n",
       "      <td>0</td>\n",
       "      <td>0</td>\n",
       "      <td>0.000000</td>\n",
       "      <td>0</td>\n",
       "      <td>10.8</td>\n",
       "      <td>1.4</td>\n",
       "      <td>1.74</td>\n",
       "      <td>Dropout</td>\n",
       "    </tr>\n",
       "    <tr>\n",
       "      <th>1</th>\n",
       "      <td>1</td>\n",
       "      <td>15</td>\n",
       "      <td>1</td>\n",
       "      <td>9254</td>\n",
       "      <td>1</td>\n",
       "      <td>1</td>\n",
       "      <td>160.0</td>\n",
       "      <td>1</td>\n",
       "      <td>1</td>\n",
       "      <td>3</td>\n",
       "      <td>...</td>\n",
       "      <td>0</td>\n",
       "      <td>6</td>\n",
       "      <td>6</td>\n",
       "      <td>6</td>\n",
       "      <td>13.666667</td>\n",
       "      <td>0</td>\n",
       "      <td>13.9</td>\n",
       "      <td>-0.3</td>\n",
       "      <td>0.79</td>\n",
       "      <td>Graduate</td>\n",
       "    </tr>\n",
       "    <tr>\n",
       "      <th>2</th>\n",
       "      <td>1</td>\n",
       "      <td>1</td>\n",
       "      <td>5</td>\n",
       "      <td>9070</td>\n",
       "      <td>1</td>\n",
       "      <td>1</td>\n",
       "      <td>122.0</td>\n",
       "      <td>1</td>\n",
       "      <td>37</td>\n",
       "      <td>37</td>\n",
       "      <td>...</td>\n",
       "      <td>0</td>\n",
       "      <td>6</td>\n",
       "      <td>0</td>\n",
       "      <td>0</td>\n",
       "      <td>0.000000</td>\n",
       "      <td>0</td>\n",
       "      <td>10.8</td>\n",
       "      <td>1.4</td>\n",
       "      <td>1.74</td>\n",
       "      <td>Dropout</td>\n",
       "    </tr>\n",
       "    <tr>\n",
       "      <th>3</th>\n",
       "      <td>1</td>\n",
       "      <td>17</td>\n",
       "      <td>2</td>\n",
       "      <td>9773</td>\n",
       "      <td>1</td>\n",
       "      <td>1</td>\n",
       "      <td>122.0</td>\n",
       "      <td>1</td>\n",
       "      <td>38</td>\n",
       "      <td>37</td>\n",
       "      <td>...</td>\n",
       "      <td>0</td>\n",
       "      <td>6</td>\n",
       "      <td>10</td>\n",
       "      <td>5</td>\n",
       "      <td>12.400000</td>\n",
       "      <td>0</td>\n",
       "      <td>9.4</td>\n",
       "      <td>-0.8</td>\n",
       "      <td>-3.12</td>\n",
       "      <td>Graduate</td>\n",
       "    </tr>\n",
       "    <tr>\n",
       "      <th>4</th>\n",
       "      <td>2</td>\n",
       "      <td>39</td>\n",
       "      <td>1</td>\n",
       "      <td>8014</td>\n",
       "      <td>0</td>\n",
       "      <td>1</td>\n",
       "      <td>100.0</td>\n",
       "      <td>1</td>\n",
       "      <td>37</td>\n",
       "      <td>38</td>\n",
       "      <td>...</td>\n",
       "      <td>0</td>\n",
       "      <td>6</td>\n",
       "      <td>6</td>\n",
       "      <td>6</td>\n",
       "      <td>13.000000</td>\n",
       "      <td>0</td>\n",
       "      <td>13.9</td>\n",
       "      <td>-0.3</td>\n",
       "      <td>0.79</td>\n",
       "      <td>Graduate</td>\n",
       "    </tr>\n",
       "  </tbody>\n",
       "</table>\n",
       "<p>5 rows × 37 columns</p>\n",
       "</div>"
      ],
      "text/plain": [
       "   Marital status  Application mode  Application order  Course  \\\n",
       "0               1                17                  5     171   \n",
       "1               1                15                  1    9254   \n",
       "2               1                 1                  5    9070   \n",
       "3               1                17                  2    9773   \n",
       "4               2                39                  1    8014   \n",
       "\n",
       "   Daytime/evening attendance\\t  Previous qualification  \\\n",
       "0                             1                       1   \n",
       "1                             1                       1   \n",
       "2                             1                       1   \n",
       "3                             1                       1   \n",
       "4                             0                       1   \n",
       "\n",
       "   Previous qualification (grade)  Nacionality  Mother's qualification  \\\n",
       "0                           122.0            1                      19   \n",
       "1                           160.0            1                       1   \n",
       "2                           122.0            1                      37   \n",
       "3                           122.0            1                      38   \n",
       "4                           100.0            1                      37   \n",
       "\n",
       "   Father's qualification  ...  Curricular units 2nd sem (credited)  \\\n",
       "0                      12  ...                                    0   \n",
       "1                       3  ...                                    0   \n",
       "2                      37  ...                                    0   \n",
       "3                      37  ...                                    0   \n",
       "4                      38  ...                                    0   \n",
       "\n",
       "   Curricular units 2nd sem (enrolled)  \\\n",
       "0                                    0   \n",
       "1                                    6   \n",
       "2                                    6   \n",
       "3                                    6   \n",
       "4                                    6   \n",
       "\n",
       "   Curricular units 2nd sem (evaluations)  \\\n",
       "0                                       0   \n",
       "1                                       6   \n",
       "2                                       0   \n",
       "3                                      10   \n",
       "4                                       6   \n",
       "\n",
       "   Curricular units 2nd sem (approved)  Curricular units 2nd sem (grade)  \\\n",
       "0                                    0                          0.000000   \n",
       "1                                    6                         13.666667   \n",
       "2                                    0                          0.000000   \n",
       "3                                    5                         12.400000   \n",
       "4                                    6                         13.000000   \n",
       "\n",
       "   Curricular units 2nd sem (without evaluations)  Unemployment rate  \\\n",
       "0                                               0               10.8   \n",
       "1                                               0               13.9   \n",
       "2                                               0               10.8   \n",
       "3                                               0                9.4   \n",
       "4                                               0               13.9   \n",
       "\n",
       "   Inflation rate   GDP    Target  \n",
       "0             1.4  1.74   Dropout  \n",
       "1            -0.3  0.79  Graduate  \n",
       "2             1.4  1.74   Dropout  \n",
       "3            -0.8 -3.12  Graduate  \n",
       "4            -0.3  0.79  Graduate  \n",
       "\n",
       "[5 rows x 37 columns]"
      ]
     },
     "execution_count": 2,
     "metadata": {},
     "output_type": "execute_result"
    }
   ],
   "source": [
    "data=pd.read_csv('data.csv', sep=';')\n",
    "data.head()"
   ]
  },
  {
   "cell_type": "code",
   "execution_count": 3,
   "metadata": {},
   "outputs": [
    {
     "name": "stdout",
     "output_type": "stream",
     "text": [
      "<class 'pandas.core.frame.DataFrame'>\n",
      "RangeIndex: 4424 entries, 0 to 4423\n",
      "Data columns (total 37 columns):\n",
      " #   Column                                          Non-Null Count  Dtype  \n",
      "---  ------                                          --------------  -----  \n",
      " 0   Marital status                                  4424 non-null   int64  \n",
      " 1   Application mode                                4424 non-null   int64  \n",
      " 2   Application order                               4424 non-null   int64  \n",
      " 3   Course                                          4424 non-null   int64  \n",
      " 4   Daytime/evening attendance\t                     4424 non-null   int64  \n",
      " 5   Previous qualification                          4424 non-null   int64  \n",
      " 6   Previous qualification (grade)                  4424 non-null   float64\n",
      " 7   Nacionality                                     4424 non-null   int64  \n",
      " 8   Mother's qualification                          4424 non-null   int64  \n",
      " 9   Father's qualification                          4424 non-null   int64  \n",
      " 10  Mother's occupation                             4424 non-null   int64  \n",
      " 11  Father's occupation                             4424 non-null   int64  \n",
      " 12  Admission grade                                 4424 non-null   float64\n",
      " 13  Displaced                                       4424 non-null   int64  \n",
      " 14  Educational special needs                       4424 non-null   int64  \n",
      " 15  Debtor                                          4424 non-null   int64  \n",
      " 16  Tuition fees up to date                         4424 non-null   int64  \n",
      " 17  Gender                                          4424 non-null   int64  \n",
      " 18  Scholarship holder                              4424 non-null   int64  \n",
      " 19  Age at enrollment                               4424 non-null   int64  \n",
      " 20  International                                   4424 non-null   int64  \n",
      " 21  Curricular units 1st sem (credited)             4424 non-null   int64  \n",
      " 22  Curricular units 1st sem (enrolled)             4424 non-null   int64  \n",
      " 23  Curricular units 1st sem (evaluations)          4424 non-null   int64  \n",
      " 24  Curricular units 1st sem (approved)             4424 non-null   int64  \n",
      " 25  Curricular units 1st sem (grade)                4424 non-null   float64\n",
      " 26  Curricular units 1st sem (without evaluations)  4424 non-null   int64  \n",
      " 27  Curricular units 2nd sem (credited)             4424 non-null   int64  \n",
      " 28  Curricular units 2nd sem (enrolled)             4424 non-null   int64  \n",
      " 29  Curricular units 2nd sem (evaluations)          4424 non-null   int64  \n",
      " 30  Curricular units 2nd sem (approved)             4424 non-null   int64  \n",
      " 31  Curricular units 2nd sem (grade)                4424 non-null   float64\n",
      " 32  Curricular units 2nd sem (without evaluations)  4424 non-null   int64  \n",
      " 33  Unemployment rate                               4424 non-null   float64\n",
      " 34  Inflation rate                                  4424 non-null   float64\n",
      " 35  GDP                                             4424 non-null   float64\n",
      " 36  Target                                          4424 non-null   object \n",
      "dtypes: float64(7), int64(29), object(1)\n",
      "memory usage: 1.2+ MB\n"
     ]
    }
   ],
   "source": [
    "data.info()"
   ]
  },
  {
   "cell_type": "markdown",
   "metadata": {},
   "source": [
    "### Preprocessing data"
   ]
  },
  {
   "cell_type": "code",
   "execution_count": 4,
   "metadata": {},
   "outputs": [
    {
     "data": {
      "application/vnd.microsoft.datawrangler.viewer.v0+json": {
       "columns": [
        {
         "name": "index",
         "rawType": "object",
         "type": "string"
        },
        {
         "name": "0",
         "rawType": "int64",
         "type": "integer"
        }
       ],
       "ref": "eb75fbbd-8b6e-482d-8e50-3da313b72eb9",
       "rows": [
        [
         "Marital status",
         "0"
        ],
        [
         "Application mode",
         "0"
        ],
        [
         "Application order",
         "0"
        ],
        [
         "Course",
         "0"
        ],
        [
         "Daytime/evening attendance\t",
         "0"
        ],
        [
         "Previous qualification",
         "0"
        ],
        [
         "Previous qualification (grade)",
         "0"
        ],
        [
         "Nacionality",
         "0"
        ],
        [
         "Mother's qualification",
         "0"
        ],
        [
         "Father's qualification",
         "0"
        ],
        [
         "Mother's occupation",
         "0"
        ],
        [
         "Father's occupation",
         "0"
        ],
        [
         "Admission grade",
         "0"
        ],
        [
         "Displaced",
         "0"
        ],
        [
         "Educational special needs",
         "0"
        ],
        [
         "Debtor",
         "0"
        ],
        [
         "Tuition fees up to date",
         "0"
        ],
        [
         "Gender",
         "0"
        ],
        [
         "Scholarship holder",
         "0"
        ],
        [
         "Age at enrollment",
         "0"
        ],
        [
         "International",
         "0"
        ],
        [
         "Curricular units 1st sem (credited)",
         "0"
        ],
        [
         "Curricular units 1st sem (enrolled)",
         "0"
        ],
        [
         "Curricular units 1st sem (evaluations)",
         "0"
        ],
        [
         "Curricular units 1st sem (approved)",
         "0"
        ],
        [
         "Curricular units 1st sem (grade)",
         "0"
        ],
        [
         "Curricular units 1st sem (without evaluations)",
         "0"
        ],
        [
         "Curricular units 2nd sem (credited)",
         "0"
        ],
        [
         "Curricular units 2nd sem (enrolled)",
         "0"
        ],
        [
         "Curricular units 2nd sem (evaluations)",
         "0"
        ],
        [
         "Curricular units 2nd sem (approved)",
         "0"
        ],
        [
         "Curricular units 2nd sem (grade)",
         "0"
        ],
        [
         "Curricular units 2nd sem (without evaluations)",
         "0"
        ],
        [
         "Unemployment rate",
         "0"
        ],
        [
         "Inflation rate",
         "0"
        ],
        [
         "GDP",
         "0"
        ],
        [
         "Target",
         "0"
        ]
       ],
       "shape": {
        "columns": 1,
        "rows": 37
       }
      },
      "text/plain": [
       "Marital status                                    0\n",
       "Application mode                                  0\n",
       "Application order                                 0\n",
       "Course                                            0\n",
       "Daytime/evening attendance\\t                      0\n",
       "Previous qualification                            0\n",
       "Previous qualification (grade)                    0\n",
       "Nacionality                                       0\n",
       "Mother's qualification                            0\n",
       "Father's qualification                            0\n",
       "Mother's occupation                               0\n",
       "Father's occupation                               0\n",
       "Admission grade                                   0\n",
       "Displaced                                         0\n",
       "Educational special needs                         0\n",
       "Debtor                                            0\n",
       "Tuition fees up to date                           0\n",
       "Gender                                            0\n",
       "Scholarship holder                                0\n",
       "Age at enrollment                                 0\n",
       "International                                     0\n",
       "Curricular units 1st sem (credited)               0\n",
       "Curricular units 1st sem (enrolled)               0\n",
       "Curricular units 1st sem (evaluations)            0\n",
       "Curricular units 1st sem (approved)               0\n",
       "Curricular units 1st sem (grade)                  0\n",
       "Curricular units 1st sem (without evaluations)    0\n",
       "Curricular units 2nd sem (credited)               0\n",
       "Curricular units 2nd sem (enrolled)               0\n",
       "Curricular units 2nd sem (evaluations)            0\n",
       "Curricular units 2nd sem (approved)               0\n",
       "Curricular units 2nd sem (grade)                  0\n",
       "Curricular units 2nd sem (without evaluations)    0\n",
       "Unemployment rate                                 0\n",
       "Inflation rate                                    0\n",
       "GDP                                               0\n",
       "Target                                            0\n",
       "dtype: int64"
      ]
     },
     "execution_count": 4,
     "metadata": {},
     "output_type": "execute_result"
    }
   ],
   "source": [
    "data.isnull().sum()"
   ]
  },
  {
   "cell_type": "code",
   "execution_count": 5,
   "metadata": {},
   "outputs": [
    {
     "data": {
      "application/vnd.microsoft.datawrangler.viewer.v0+json": {
       "columns": [
        {
         "name": "index",
         "rawType": "object",
         "type": "string"
        },
        {
         "name": "0",
         "rawType": "object",
         "type": "unknown"
        }
       ],
       "ref": "148f0bc8-5739-4d34-9c12-88f7139936e4",
       "rows": [
        [
         "Marital status",
         "int64"
        ],
        [
         "Application mode",
         "int64"
        ],
        [
         "Application order",
         "int64"
        ],
        [
         "Course",
         "int64"
        ],
        [
         "Daytime/evening attendance\t",
         "int64"
        ],
        [
         "Previous qualification",
         "int64"
        ],
        [
         "Previous qualification (grade)",
         "float64"
        ],
        [
         "Nacionality",
         "int64"
        ],
        [
         "Mother's qualification",
         "int64"
        ],
        [
         "Father's qualification",
         "int64"
        ],
        [
         "Mother's occupation",
         "int64"
        ],
        [
         "Father's occupation",
         "int64"
        ],
        [
         "Admission grade",
         "float64"
        ],
        [
         "Displaced",
         "int64"
        ],
        [
         "Educational special needs",
         "int64"
        ],
        [
         "Debtor",
         "int64"
        ],
        [
         "Tuition fees up to date",
         "int64"
        ],
        [
         "Gender",
         "int64"
        ],
        [
         "Scholarship holder",
         "int64"
        ],
        [
         "Age at enrollment",
         "int64"
        ],
        [
         "International",
         "int64"
        ],
        [
         "Curricular units 1st sem (credited)",
         "int64"
        ],
        [
         "Curricular units 1st sem (enrolled)",
         "int64"
        ],
        [
         "Curricular units 1st sem (evaluations)",
         "int64"
        ],
        [
         "Curricular units 1st sem (approved)",
         "int64"
        ],
        [
         "Curricular units 1st sem (grade)",
         "float64"
        ],
        [
         "Curricular units 1st sem (without evaluations)",
         "int64"
        ],
        [
         "Curricular units 2nd sem (credited)",
         "int64"
        ],
        [
         "Curricular units 2nd sem (enrolled)",
         "int64"
        ],
        [
         "Curricular units 2nd sem (evaluations)",
         "int64"
        ],
        [
         "Curricular units 2nd sem (approved)",
         "int64"
        ],
        [
         "Curricular units 2nd sem (grade)",
         "float64"
        ],
        [
         "Curricular units 2nd sem (without evaluations)",
         "int64"
        ],
        [
         "Unemployment rate",
         "float64"
        ],
        [
         "Inflation rate",
         "float64"
        ],
        [
         "GDP",
         "float64"
        ],
        [
         "Target",
         "object"
        ]
       ],
       "shape": {
        "columns": 1,
        "rows": 37
       }
      },
      "text/plain": [
       "Marital status                                      int64\n",
       "Application mode                                    int64\n",
       "Application order                                   int64\n",
       "Course                                              int64\n",
       "Daytime/evening attendance\\t                        int64\n",
       "Previous qualification                              int64\n",
       "Previous qualification (grade)                    float64\n",
       "Nacionality                                         int64\n",
       "Mother's qualification                              int64\n",
       "Father's qualification                              int64\n",
       "Mother's occupation                                 int64\n",
       "Father's occupation                                 int64\n",
       "Admission grade                                   float64\n",
       "Displaced                                           int64\n",
       "Educational special needs                           int64\n",
       "Debtor                                              int64\n",
       "Tuition fees up to date                             int64\n",
       "Gender                                              int64\n",
       "Scholarship holder                                  int64\n",
       "Age at enrollment                                   int64\n",
       "International                                       int64\n",
       "Curricular units 1st sem (credited)                 int64\n",
       "Curricular units 1st sem (enrolled)                 int64\n",
       "Curricular units 1st sem (evaluations)              int64\n",
       "Curricular units 1st sem (approved)                 int64\n",
       "Curricular units 1st sem (grade)                  float64\n",
       "Curricular units 1st sem (without evaluations)      int64\n",
       "Curricular units 2nd sem (credited)                 int64\n",
       "Curricular units 2nd sem (enrolled)                 int64\n",
       "Curricular units 2nd sem (evaluations)              int64\n",
       "Curricular units 2nd sem (approved)                 int64\n",
       "Curricular units 2nd sem (grade)                  float64\n",
       "Curricular units 2nd sem (without evaluations)      int64\n",
       "Unemployment rate                                 float64\n",
       "Inflation rate                                    float64\n",
       "GDP                                               float64\n",
       "Target                                             object\n",
       "dtype: object"
      ]
     },
     "execution_count": 5,
     "metadata": {},
     "output_type": "execute_result"
    }
   ],
   "source": [
    "data.dtypes"
   ]
  },
  {
   "cell_type": "code",
   "execution_count": 6,
   "metadata": {},
   "outputs": [
    {
     "data": {
      "application/vnd.microsoft.datawrangler.viewer.v0+json": {
       "columns": [
        {
         "name": "Target",
         "rawType": "object",
         "type": "string"
        },
        {
         "name": "count",
         "rawType": "int64",
         "type": "integer"
        }
       ],
       "ref": "e4a91d90-273b-4fc0-81ea-89b80ec23d41",
       "rows": [
        [
         "Graduate",
         "2209"
        ],
        [
         "Dropout",
         "1421"
        ],
        [
         "Enrolled",
         "794"
        ]
       ],
       "shape": {
        "columns": 1,
        "rows": 3
       }
      },
      "text/plain": [
       "Target\n",
       "Graduate    2209\n",
       "Dropout     1421\n",
       "Enrolled     794\n",
       "Name: count, dtype: int64"
      ]
     },
     "execution_count": 6,
     "metadata": {},
     "output_type": "execute_result"
    }
   ],
   "source": [
    "data['Target'].value_counts()"
   ]
  },
  {
   "cell_type": "code",
   "execution_count": 7,
   "metadata": {},
   "outputs": [],
   "source": [
    "def encode_target (val:str) -> int:\n",
    "    if val == 'Enrolled' or val == 'Dropout':\n",
    "        return 0\n",
    "    return 1\n",
    "\n",
    "data['Target'] = data['Target'].apply(encode_target)"
   ]
  },
  {
   "cell_type": "code",
   "execution_count": 8,
   "metadata": {},
   "outputs": [
    {
     "data": {
      "text/plain": [
       "array([0, 1])"
      ]
     },
     "execution_count": 8,
     "metadata": {},
     "output_type": "execute_result"
    }
   ],
   "source": [
    "data['Target'].unique()"
   ]
  },
  {
   "cell_type": "code",
   "execution_count": 9,
   "metadata": {},
   "outputs": [
    {
     "data": {
      "application/vnd.microsoft.datawrangler.viewer.v0+json": {
       "columns": [
        {
         "name": "index",
         "rawType": "int64",
         "type": "integer"
        },
        {
         "name": "Marital status",
         "rawType": "int64",
         "type": "integer"
        },
        {
         "name": "Application mode",
         "rawType": "int64",
         "type": "integer"
        },
        {
         "name": "Application order",
         "rawType": "int64",
         "type": "integer"
        },
        {
         "name": "Course",
         "rawType": "int64",
         "type": "integer"
        },
        {
         "name": "Daytime/evening attendance\t",
         "rawType": "int64",
         "type": "integer"
        },
        {
         "name": "Previous qualification",
         "rawType": "int64",
         "type": "integer"
        },
        {
         "name": "Previous qualification (grade)",
         "rawType": "float64",
         "type": "float"
        },
        {
         "name": "Nacionality",
         "rawType": "int64",
         "type": "integer"
        },
        {
         "name": "Mother's qualification",
         "rawType": "int64",
         "type": "integer"
        },
        {
         "name": "Father's qualification",
         "rawType": "int64",
         "type": "integer"
        },
        {
         "name": "Mother's occupation",
         "rawType": "int64",
         "type": "integer"
        },
        {
         "name": "Father's occupation",
         "rawType": "int64",
         "type": "integer"
        },
        {
         "name": "Admission grade",
         "rawType": "float64",
         "type": "float"
        },
        {
         "name": "Displaced",
         "rawType": "int64",
         "type": "integer"
        },
        {
         "name": "Educational special needs",
         "rawType": "int64",
         "type": "integer"
        },
        {
         "name": "Debtor",
         "rawType": "int64",
         "type": "integer"
        },
        {
         "name": "Tuition fees up to date",
         "rawType": "int64",
         "type": "integer"
        },
        {
         "name": "Gender",
         "rawType": "int64",
         "type": "integer"
        },
        {
         "name": "Scholarship holder",
         "rawType": "int64",
         "type": "integer"
        },
        {
         "name": "Age at enrollment",
         "rawType": "int64",
         "type": "integer"
        },
        {
         "name": "International",
         "rawType": "int64",
         "type": "integer"
        },
        {
         "name": "Curricular units 1st sem (credited)",
         "rawType": "int64",
         "type": "integer"
        },
        {
         "name": "Curricular units 1st sem (enrolled)",
         "rawType": "int64",
         "type": "integer"
        },
        {
         "name": "Curricular units 1st sem (evaluations)",
         "rawType": "int64",
         "type": "integer"
        },
        {
         "name": "Curricular units 1st sem (approved)",
         "rawType": "int64",
         "type": "integer"
        },
        {
         "name": "Curricular units 1st sem (grade)",
         "rawType": "float64",
         "type": "float"
        },
        {
         "name": "Curricular units 1st sem (without evaluations)",
         "rawType": "int64",
         "type": "integer"
        },
        {
         "name": "Curricular units 2nd sem (credited)",
         "rawType": "int64",
         "type": "integer"
        },
        {
         "name": "Curricular units 2nd sem (enrolled)",
         "rawType": "int64",
         "type": "integer"
        },
        {
         "name": "Curricular units 2nd sem (evaluations)",
         "rawType": "int64",
         "type": "integer"
        },
        {
         "name": "Curricular units 2nd sem (approved)",
         "rawType": "int64",
         "type": "integer"
        },
        {
         "name": "Curricular units 2nd sem (grade)",
         "rawType": "float64",
         "type": "float"
        },
        {
         "name": "Curricular units 2nd sem (without evaluations)",
         "rawType": "int64",
         "type": "integer"
        },
        {
         "name": "Unemployment rate",
         "rawType": "float64",
         "type": "float"
        },
        {
         "name": "Inflation rate",
         "rawType": "float64",
         "type": "float"
        },
        {
         "name": "GDP",
         "rawType": "float64",
         "type": "float"
        },
        {
         "name": "Target",
         "rawType": "int64",
         "type": "integer"
        }
       ],
       "ref": "66be1114-79b8-4c1f-ba38-90d3fd23123e",
       "rows": [
        [
         "0",
         "1",
         "17",
         "5",
         "171",
         "1",
         "1",
         "122.0",
         "1",
         "19",
         "12",
         "5",
         "9",
         "127.3",
         "1",
         "0",
         "0",
         "1",
         "1",
         "0",
         "20",
         "0",
         "0",
         "0",
         "0",
         "0",
         "0.0",
         "0",
         "0",
         "0",
         "0",
         "0",
         "0.0",
         "0",
         "10.8",
         "1.4",
         "1.74",
         "0"
        ],
        [
         "1",
         "1",
         "15",
         "1",
         "9254",
         "1",
         "1",
         "160.0",
         "1",
         "1",
         "3",
         "3",
         "3",
         "142.5",
         "1",
         "0",
         "0",
         "0",
         "1",
         "0",
         "19",
         "0",
         "0",
         "6",
         "6",
         "6",
         "14.0",
         "0",
         "0",
         "6",
         "6",
         "6",
         "13.666666666666666",
         "0",
         "13.9",
         "-0.3",
         "0.79",
         "1"
        ],
        [
         "2",
         "1",
         "1",
         "5",
         "9070",
         "1",
         "1",
         "122.0",
         "1",
         "37",
         "37",
         "9",
         "9",
         "124.8",
         "1",
         "0",
         "0",
         "0",
         "1",
         "0",
         "19",
         "0",
         "0",
         "6",
         "0",
         "0",
         "0.0",
         "0",
         "0",
         "6",
         "0",
         "0",
         "0.0",
         "0",
         "10.8",
         "1.4",
         "1.74",
         "0"
        ],
        [
         "3",
         "1",
         "17",
         "2",
         "9773",
         "1",
         "1",
         "122.0",
         "1",
         "38",
         "37",
         "5",
         "3",
         "119.6",
         "1",
         "0",
         "0",
         "1",
         "0",
         "0",
         "20",
         "0",
         "0",
         "6",
         "8",
         "6",
         "13.428571428571429",
         "0",
         "0",
         "6",
         "10",
         "5",
         "12.4",
         "0",
         "9.4",
         "-0.8",
         "-3.12",
         "1"
        ],
        [
         "4",
         "2",
         "39",
         "1",
         "8014",
         "0",
         "1",
         "100.0",
         "1",
         "37",
         "38",
         "9",
         "9",
         "141.5",
         "0",
         "0",
         "0",
         "1",
         "0",
         "0",
         "45",
         "0",
         "0",
         "6",
         "9",
         "5",
         "12.333333333333334",
         "0",
         "0",
         "6",
         "6",
         "6",
         "13.0",
         "0",
         "13.9",
         "-0.3",
         "0.79",
         "1"
        ]
       ],
       "shape": {
        "columns": 37,
        "rows": 5
       }
      },
      "text/html": [
       "<div>\n",
       "<style scoped>\n",
       "    .dataframe tbody tr th:only-of-type {\n",
       "        vertical-align: middle;\n",
       "    }\n",
       "\n",
       "    .dataframe tbody tr th {\n",
       "        vertical-align: top;\n",
       "    }\n",
       "\n",
       "    .dataframe thead th {\n",
       "        text-align: right;\n",
       "    }\n",
       "</style>\n",
       "<table border=\"1\" class=\"dataframe\">\n",
       "  <thead>\n",
       "    <tr style=\"text-align: right;\">\n",
       "      <th></th>\n",
       "      <th>Marital status</th>\n",
       "      <th>Application mode</th>\n",
       "      <th>Application order</th>\n",
       "      <th>Course</th>\n",
       "      <th>Daytime/evening attendance\\t</th>\n",
       "      <th>Previous qualification</th>\n",
       "      <th>Previous qualification (grade)</th>\n",
       "      <th>Nacionality</th>\n",
       "      <th>Mother's qualification</th>\n",
       "      <th>Father's qualification</th>\n",
       "      <th>...</th>\n",
       "      <th>Curricular units 2nd sem (credited)</th>\n",
       "      <th>Curricular units 2nd sem (enrolled)</th>\n",
       "      <th>Curricular units 2nd sem (evaluations)</th>\n",
       "      <th>Curricular units 2nd sem (approved)</th>\n",
       "      <th>Curricular units 2nd sem (grade)</th>\n",
       "      <th>Curricular units 2nd sem (without evaluations)</th>\n",
       "      <th>Unemployment rate</th>\n",
       "      <th>Inflation rate</th>\n",
       "      <th>GDP</th>\n",
       "      <th>Target</th>\n",
       "    </tr>\n",
       "  </thead>\n",
       "  <tbody>\n",
       "    <tr>\n",
       "      <th>0</th>\n",
       "      <td>1</td>\n",
       "      <td>17</td>\n",
       "      <td>5</td>\n",
       "      <td>171</td>\n",
       "      <td>1</td>\n",
       "      <td>1</td>\n",
       "      <td>122.0</td>\n",
       "      <td>1</td>\n",
       "      <td>19</td>\n",
       "      <td>12</td>\n",
       "      <td>...</td>\n",
       "      <td>0</td>\n",
       "      <td>0</td>\n",
       "      <td>0</td>\n",
       "      <td>0</td>\n",
       "      <td>0.000000</td>\n",
       "      <td>0</td>\n",
       "      <td>10.8</td>\n",
       "      <td>1.4</td>\n",
       "      <td>1.74</td>\n",
       "      <td>0</td>\n",
       "    </tr>\n",
       "    <tr>\n",
       "      <th>1</th>\n",
       "      <td>1</td>\n",
       "      <td>15</td>\n",
       "      <td>1</td>\n",
       "      <td>9254</td>\n",
       "      <td>1</td>\n",
       "      <td>1</td>\n",
       "      <td>160.0</td>\n",
       "      <td>1</td>\n",
       "      <td>1</td>\n",
       "      <td>3</td>\n",
       "      <td>...</td>\n",
       "      <td>0</td>\n",
       "      <td>6</td>\n",
       "      <td>6</td>\n",
       "      <td>6</td>\n",
       "      <td>13.666667</td>\n",
       "      <td>0</td>\n",
       "      <td>13.9</td>\n",
       "      <td>-0.3</td>\n",
       "      <td>0.79</td>\n",
       "      <td>1</td>\n",
       "    </tr>\n",
       "    <tr>\n",
       "      <th>2</th>\n",
       "      <td>1</td>\n",
       "      <td>1</td>\n",
       "      <td>5</td>\n",
       "      <td>9070</td>\n",
       "      <td>1</td>\n",
       "      <td>1</td>\n",
       "      <td>122.0</td>\n",
       "      <td>1</td>\n",
       "      <td>37</td>\n",
       "      <td>37</td>\n",
       "      <td>...</td>\n",
       "      <td>0</td>\n",
       "      <td>6</td>\n",
       "      <td>0</td>\n",
       "      <td>0</td>\n",
       "      <td>0.000000</td>\n",
       "      <td>0</td>\n",
       "      <td>10.8</td>\n",
       "      <td>1.4</td>\n",
       "      <td>1.74</td>\n",
       "      <td>0</td>\n",
       "    </tr>\n",
       "    <tr>\n",
       "      <th>3</th>\n",
       "      <td>1</td>\n",
       "      <td>17</td>\n",
       "      <td>2</td>\n",
       "      <td>9773</td>\n",
       "      <td>1</td>\n",
       "      <td>1</td>\n",
       "      <td>122.0</td>\n",
       "      <td>1</td>\n",
       "      <td>38</td>\n",
       "      <td>37</td>\n",
       "      <td>...</td>\n",
       "      <td>0</td>\n",
       "      <td>6</td>\n",
       "      <td>10</td>\n",
       "      <td>5</td>\n",
       "      <td>12.400000</td>\n",
       "      <td>0</td>\n",
       "      <td>9.4</td>\n",
       "      <td>-0.8</td>\n",
       "      <td>-3.12</td>\n",
       "      <td>1</td>\n",
       "    </tr>\n",
       "    <tr>\n",
       "      <th>4</th>\n",
       "      <td>2</td>\n",
       "      <td>39</td>\n",
       "      <td>1</td>\n",
       "      <td>8014</td>\n",
       "      <td>0</td>\n",
       "      <td>1</td>\n",
       "      <td>100.0</td>\n",
       "      <td>1</td>\n",
       "      <td>37</td>\n",
       "      <td>38</td>\n",
       "      <td>...</td>\n",
       "      <td>0</td>\n",
       "      <td>6</td>\n",
       "      <td>6</td>\n",
       "      <td>6</td>\n",
       "      <td>13.000000</td>\n",
       "      <td>0</td>\n",
       "      <td>13.9</td>\n",
       "      <td>-0.3</td>\n",
       "      <td>0.79</td>\n",
       "      <td>1</td>\n",
       "    </tr>\n",
       "  </tbody>\n",
       "</table>\n",
       "<p>5 rows × 37 columns</p>\n",
       "</div>"
      ],
      "text/plain": [
       "   Marital status  Application mode  Application order  Course  \\\n",
       "0               1                17                  5     171   \n",
       "1               1                15                  1    9254   \n",
       "2               1                 1                  5    9070   \n",
       "3               1                17                  2    9773   \n",
       "4               2                39                  1    8014   \n",
       "\n",
       "   Daytime/evening attendance\\t  Previous qualification  \\\n",
       "0                             1                       1   \n",
       "1                             1                       1   \n",
       "2                             1                       1   \n",
       "3                             1                       1   \n",
       "4                             0                       1   \n",
       "\n",
       "   Previous qualification (grade)  Nacionality  Mother's qualification  \\\n",
       "0                           122.0            1                      19   \n",
       "1                           160.0            1                       1   \n",
       "2                           122.0            1                      37   \n",
       "3                           122.0            1                      38   \n",
       "4                           100.0            1                      37   \n",
       "\n",
       "   Father's qualification  ...  Curricular units 2nd sem (credited)  \\\n",
       "0                      12  ...                                    0   \n",
       "1                       3  ...                                    0   \n",
       "2                      37  ...                                    0   \n",
       "3                      37  ...                                    0   \n",
       "4                      38  ...                                    0   \n",
       "\n",
       "   Curricular units 2nd sem (enrolled)  \\\n",
       "0                                    0   \n",
       "1                                    6   \n",
       "2                                    6   \n",
       "3                                    6   \n",
       "4                                    6   \n",
       "\n",
       "   Curricular units 2nd sem (evaluations)  \\\n",
       "0                                       0   \n",
       "1                                       6   \n",
       "2                                       0   \n",
       "3                                      10   \n",
       "4                                       6   \n",
       "\n",
       "   Curricular units 2nd sem (approved)  Curricular units 2nd sem (grade)  \\\n",
       "0                                    0                          0.000000   \n",
       "1                                    6                         13.666667   \n",
       "2                                    0                          0.000000   \n",
       "3                                    5                         12.400000   \n",
       "4                                    6                         13.000000   \n",
       "\n",
       "   Curricular units 2nd sem (without evaluations)  Unemployment rate  \\\n",
       "0                                               0               10.8   \n",
       "1                                               0               13.9   \n",
       "2                                               0               10.8   \n",
       "3                                               0                9.4   \n",
       "4                                               0               13.9   \n",
       "\n",
       "   Inflation rate   GDP  Target  \n",
       "0             1.4  1.74       0  \n",
       "1            -0.3  0.79       1  \n",
       "2             1.4  1.74       0  \n",
       "3            -0.8 -3.12       1  \n",
       "4            -0.3  0.79       1  \n",
       "\n",
       "[5 rows x 37 columns]"
      ]
     },
     "execution_count": 9,
     "metadata": {},
     "output_type": "execute_result"
    }
   ],
   "source": [
    "data.head()"
   ]
  },
  {
   "cell_type": "markdown",
   "metadata": {},
   "source": [
    "### Normalization"
   ]
  },
  {
   "cell_type": "code",
   "execution_count": 10,
   "metadata": {},
   "outputs": [],
   "source": [
    "# chỉ chuẩn hóa cột liên tục (số thực) (ko dùng với cột rời rạc (số nguyên))\n",
    "for continue_col in data.columns:\n",
    "    if data[continue_col].dtype == np.float64:\n",
    "        data[continue_col] = (data[continue_col] - data[continue_col].mean()) / data[continue_col].std()"
   ]
  },
  {
   "cell_type": "markdown",
   "metadata": {},
   "source": [
    "### Seperation train/test "
   ]
  },
  {
   "cell_type": "code",
   "execution_count": 11,
   "metadata": {},
   "outputs": [
    {
     "data": {
      "application/vnd.microsoft.datawrangler.viewer.v0+json": {
       "columns": [
        {
         "name": "index",
         "rawType": "int64",
         "type": "integer"
        },
        {
         "name": "Marital status",
         "rawType": "int64",
         "type": "integer"
        },
        {
         "name": "Application mode",
         "rawType": "int64",
         "type": "integer"
        },
        {
         "name": "Application order",
         "rawType": "int64",
         "type": "integer"
        },
        {
         "name": "Course",
         "rawType": "int64",
         "type": "integer"
        },
        {
         "name": "Daytime/evening attendance\t",
         "rawType": "int64",
         "type": "integer"
        },
        {
         "name": "Previous qualification",
         "rawType": "int64",
         "type": "integer"
        },
        {
         "name": "Previous qualification (grade)",
         "rawType": "float64",
         "type": "float"
        },
        {
         "name": "Nacionality",
         "rawType": "int64",
         "type": "integer"
        },
        {
         "name": "Mother's qualification",
         "rawType": "int64",
         "type": "integer"
        },
        {
         "name": "Father's qualification",
         "rawType": "int64",
         "type": "integer"
        },
        {
         "name": "Mother's occupation",
         "rawType": "int64",
         "type": "integer"
        },
        {
         "name": "Father's occupation",
         "rawType": "int64",
         "type": "integer"
        },
        {
         "name": "Admission grade",
         "rawType": "float64",
         "type": "float"
        },
        {
         "name": "Displaced",
         "rawType": "int64",
         "type": "integer"
        },
        {
         "name": "Educational special needs",
         "rawType": "int64",
         "type": "integer"
        },
        {
         "name": "Debtor",
         "rawType": "int64",
         "type": "integer"
        },
        {
         "name": "Tuition fees up to date",
         "rawType": "int64",
         "type": "integer"
        },
        {
         "name": "Gender",
         "rawType": "int64",
         "type": "integer"
        },
        {
         "name": "Scholarship holder",
         "rawType": "int64",
         "type": "integer"
        },
        {
         "name": "Age at enrollment",
         "rawType": "int64",
         "type": "integer"
        },
        {
         "name": "International",
         "rawType": "int64",
         "type": "integer"
        },
        {
         "name": "Curricular units 1st sem (credited)",
         "rawType": "int64",
         "type": "integer"
        },
        {
         "name": "Curricular units 1st sem (enrolled)",
         "rawType": "int64",
         "type": "integer"
        },
        {
         "name": "Curricular units 1st sem (evaluations)",
         "rawType": "int64",
         "type": "integer"
        },
        {
         "name": "Curricular units 1st sem (approved)",
         "rawType": "int64",
         "type": "integer"
        },
        {
         "name": "Curricular units 1st sem (grade)",
         "rawType": "float64",
         "type": "float"
        },
        {
         "name": "Curricular units 1st sem (without evaluations)",
         "rawType": "int64",
         "type": "integer"
        },
        {
         "name": "Curricular units 2nd sem (credited)",
         "rawType": "int64",
         "type": "integer"
        },
        {
         "name": "Curricular units 2nd sem (enrolled)",
         "rawType": "int64",
         "type": "integer"
        },
        {
         "name": "Curricular units 2nd sem (evaluations)",
         "rawType": "int64",
         "type": "integer"
        },
        {
         "name": "Curricular units 2nd sem (approved)",
         "rawType": "int64",
         "type": "integer"
        },
        {
         "name": "Curricular units 2nd sem (grade)",
         "rawType": "float64",
         "type": "float"
        },
        {
         "name": "Curricular units 2nd sem (without evaluations)",
         "rawType": "int64",
         "type": "integer"
        },
        {
         "name": "Unemployment rate",
         "rawType": "float64",
         "type": "float"
        },
        {
         "name": "Inflation rate",
         "rawType": "float64",
         "type": "float"
        },
        {
         "name": "GDP",
         "rawType": "float64",
         "type": "float"
        }
       ],
       "ref": "787ca648-abbc-4267-82f1-881d30f145ee",
       "rows": [
        [
         "0",
         "1",
         "17",
         "5",
         "171",
         "1",
         "1",
         "-0.8047502895749076",
         "1",
         "19",
         "12",
         "5",
         "9",
         "0.02222625554444141",
         "1",
         "0",
         "0",
         "1",
         "1",
         "0",
         "20",
         "0",
         "0",
         "0",
         "0",
         "0",
         "-2.196854062491825",
         "0",
         "0",
         "0",
         "0",
         "0",
         "-1.9632666971729604",
         "0",
         "-0.287605946737996",
         "0.12437241424395752",
         "0.7656742839038967"
        ],
        [
         "1",
         "1",
         "15",
         "1",
         "9254",
         "1",
         "1",
         "2.076584583181998",
         "1",
         "1",
         "3",
         "3",
         "3",
         "1.0718049836588608",
         "1",
         "0",
         "0",
         "0",
         "1",
         "0",
         "19",
         "0",
         "0",
         "6",
         "6",
         "6",
         "0.6935202058540757",
         "0",
         "0",
         "6",
         "6",
         "6",
         "0.6594871608896784",
         "0",
         "0.8761230306454862",
         "-1.1050966355009888",
         "0.34716017872948673"
        ],
        [
         "2",
         "1",
         "1",
         "5",
         "9070",
         "1",
         "1",
         "-0.8047502895749076",
         "1",
         "37",
         "37",
         "9",
         "9",
         "-0.1504018247375354",
         "1",
         "0",
         "0",
         "0",
         "1",
         "0",
         "19",
         "0",
         "0",
         "6",
         "0",
         "0",
         "-2.196854062491825",
         "0",
         "0",
         "6",
         "0",
         "0",
         "-1.9632666971729604",
         "0",
         "-0.287605946737996",
         "0.12437241424395752",
         "0.7656742839038967"
        ],
        [
         "3",
         "1",
         "17",
         "2",
         "9773",
         "1",
         "1",
         "-0.8047502895749076",
         "1",
         "38",
         "37",
         "5",
         "3",
         "-0.5094682317240474",
         "1",
         "0",
         "0",
         "1",
         "0",
         "0",
         "20",
         "0",
         "0",
         "6",
         "8",
         "6",
         "0.5755457459215899",
         "0",
         "0",
         "6",
         "10",
         "5",
         "0.4164026569716779",
         "0",
         "-0.8131609687821494",
         "-1.4667051795436201",
         "-1.3753557699357164"
        ],
        [
         "4",
         "2",
         "39",
         "1",
         "8014",
         "0",
         "1",
         "-2.4728915316973263",
         "1",
         "37",
         "38",
         "9",
         "9",
         "1.00275375154607",
         "0",
         "0",
         "0",
         "1",
         "0",
         "0",
         "45",
         "0",
         "0",
         "6",
         "9",
         "5",
         "0.34942803105099235",
         "0",
         "0",
         "6",
         "6",
         "6",
         "0.5315479483012571",
         "0",
         "0.8761230306454862",
         "-1.1050966355009888",
         "0.34716017872948673"
        ]
       ],
       "shape": {
        "columns": 36,
        "rows": 5
       }
      },
      "text/html": [
       "<div>\n",
       "<style scoped>\n",
       "    .dataframe tbody tr th:only-of-type {\n",
       "        vertical-align: middle;\n",
       "    }\n",
       "\n",
       "    .dataframe tbody tr th {\n",
       "        vertical-align: top;\n",
       "    }\n",
       "\n",
       "    .dataframe thead th {\n",
       "        text-align: right;\n",
       "    }\n",
       "</style>\n",
       "<table border=\"1\" class=\"dataframe\">\n",
       "  <thead>\n",
       "    <tr style=\"text-align: right;\">\n",
       "      <th></th>\n",
       "      <th>Marital status</th>\n",
       "      <th>Application mode</th>\n",
       "      <th>Application order</th>\n",
       "      <th>Course</th>\n",
       "      <th>Daytime/evening attendance\\t</th>\n",
       "      <th>Previous qualification</th>\n",
       "      <th>Previous qualification (grade)</th>\n",
       "      <th>Nacionality</th>\n",
       "      <th>Mother's qualification</th>\n",
       "      <th>Father's qualification</th>\n",
       "      <th>...</th>\n",
       "      <th>Curricular units 1st sem (without evaluations)</th>\n",
       "      <th>Curricular units 2nd sem (credited)</th>\n",
       "      <th>Curricular units 2nd sem (enrolled)</th>\n",
       "      <th>Curricular units 2nd sem (evaluations)</th>\n",
       "      <th>Curricular units 2nd sem (approved)</th>\n",
       "      <th>Curricular units 2nd sem (grade)</th>\n",
       "      <th>Curricular units 2nd sem (without evaluations)</th>\n",
       "      <th>Unemployment rate</th>\n",
       "      <th>Inflation rate</th>\n",
       "      <th>GDP</th>\n",
       "    </tr>\n",
       "  </thead>\n",
       "  <tbody>\n",
       "    <tr>\n",
       "      <th>0</th>\n",
       "      <td>1</td>\n",
       "      <td>17</td>\n",
       "      <td>5</td>\n",
       "      <td>171</td>\n",
       "      <td>1</td>\n",
       "      <td>1</td>\n",
       "      <td>-0.804750</td>\n",
       "      <td>1</td>\n",
       "      <td>19</td>\n",
       "      <td>12</td>\n",
       "      <td>...</td>\n",
       "      <td>0</td>\n",
       "      <td>0</td>\n",
       "      <td>0</td>\n",
       "      <td>0</td>\n",
       "      <td>0</td>\n",
       "      <td>-1.963267</td>\n",
       "      <td>0</td>\n",
       "      <td>-0.287606</td>\n",
       "      <td>0.124372</td>\n",
       "      <td>0.765674</td>\n",
       "    </tr>\n",
       "    <tr>\n",
       "      <th>1</th>\n",
       "      <td>1</td>\n",
       "      <td>15</td>\n",
       "      <td>1</td>\n",
       "      <td>9254</td>\n",
       "      <td>1</td>\n",
       "      <td>1</td>\n",
       "      <td>2.076585</td>\n",
       "      <td>1</td>\n",
       "      <td>1</td>\n",
       "      <td>3</td>\n",
       "      <td>...</td>\n",
       "      <td>0</td>\n",
       "      <td>0</td>\n",
       "      <td>6</td>\n",
       "      <td>6</td>\n",
       "      <td>6</td>\n",
       "      <td>0.659487</td>\n",
       "      <td>0</td>\n",
       "      <td>0.876123</td>\n",
       "      <td>-1.105097</td>\n",
       "      <td>0.347160</td>\n",
       "    </tr>\n",
       "    <tr>\n",
       "      <th>2</th>\n",
       "      <td>1</td>\n",
       "      <td>1</td>\n",
       "      <td>5</td>\n",
       "      <td>9070</td>\n",
       "      <td>1</td>\n",
       "      <td>1</td>\n",
       "      <td>-0.804750</td>\n",
       "      <td>1</td>\n",
       "      <td>37</td>\n",
       "      <td>37</td>\n",
       "      <td>...</td>\n",
       "      <td>0</td>\n",
       "      <td>0</td>\n",
       "      <td>6</td>\n",
       "      <td>0</td>\n",
       "      <td>0</td>\n",
       "      <td>-1.963267</td>\n",
       "      <td>0</td>\n",
       "      <td>-0.287606</td>\n",
       "      <td>0.124372</td>\n",
       "      <td>0.765674</td>\n",
       "    </tr>\n",
       "    <tr>\n",
       "      <th>3</th>\n",
       "      <td>1</td>\n",
       "      <td>17</td>\n",
       "      <td>2</td>\n",
       "      <td>9773</td>\n",
       "      <td>1</td>\n",
       "      <td>1</td>\n",
       "      <td>-0.804750</td>\n",
       "      <td>1</td>\n",
       "      <td>38</td>\n",
       "      <td>37</td>\n",
       "      <td>...</td>\n",
       "      <td>0</td>\n",
       "      <td>0</td>\n",
       "      <td>6</td>\n",
       "      <td>10</td>\n",
       "      <td>5</td>\n",
       "      <td>0.416403</td>\n",
       "      <td>0</td>\n",
       "      <td>-0.813161</td>\n",
       "      <td>-1.466705</td>\n",
       "      <td>-1.375356</td>\n",
       "    </tr>\n",
       "    <tr>\n",
       "      <th>4</th>\n",
       "      <td>2</td>\n",
       "      <td>39</td>\n",
       "      <td>1</td>\n",
       "      <td>8014</td>\n",
       "      <td>0</td>\n",
       "      <td>1</td>\n",
       "      <td>-2.472892</td>\n",
       "      <td>1</td>\n",
       "      <td>37</td>\n",
       "      <td>38</td>\n",
       "      <td>...</td>\n",
       "      <td>0</td>\n",
       "      <td>0</td>\n",
       "      <td>6</td>\n",
       "      <td>6</td>\n",
       "      <td>6</td>\n",
       "      <td>0.531548</td>\n",
       "      <td>0</td>\n",
       "      <td>0.876123</td>\n",
       "      <td>-1.105097</td>\n",
       "      <td>0.347160</td>\n",
       "    </tr>\n",
       "  </tbody>\n",
       "</table>\n",
       "<p>5 rows × 36 columns</p>\n",
       "</div>"
      ],
      "text/plain": [
       "   Marital status  Application mode  Application order  Course  \\\n",
       "0               1                17                  5     171   \n",
       "1               1                15                  1    9254   \n",
       "2               1                 1                  5    9070   \n",
       "3               1                17                  2    9773   \n",
       "4               2                39                  1    8014   \n",
       "\n",
       "   Daytime/evening attendance\\t  Previous qualification  \\\n",
       "0                             1                       1   \n",
       "1                             1                       1   \n",
       "2                             1                       1   \n",
       "3                             1                       1   \n",
       "4                             0                       1   \n",
       "\n",
       "   Previous qualification (grade)  Nacionality  Mother's qualification  \\\n",
       "0                       -0.804750            1                      19   \n",
       "1                        2.076585            1                       1   \n",
       "2                       -0.804750            1                      37   \n",
       "3                       -0.804750            1                      38   \n",
       "4                       -2.472892            1                      37   \n",
       "\n",
       "   Father's qualification  ...  \\\n",
       "0                      12  ...   \n",
       "1                       3  ...   \n",
       "2                      37  ...   \n",
       "3                      37  ...   \n",
       "4                      38  ...   \n",
       "\n",
       "   Curricular units 1st sem (without evaluations)  \\\n",
       "0                                               0   \n",
       "1                                               0   \n",
       "2                                               0   \n",
       "3                                               0   \n",
       "4                                               0   \n",
       "\n",
       "   Curricular units 2nd sem (credited)  Curricular units 2nd sem (enrolled)  \\\n",
       "0                                    0                                    0   \n",
       "1                                    0                                    6   \n",
       "2                                    0                                    6   \n",
       "3                                    0                                    6   \n",
       "4                                    0                                    6   \n",
       "\n",
       "   Curricular units 2nd sem (evaluations)  \\\n",
       "0                                       0   \n",
       "1                                       6   \n",
       "2                                       0   \n",
       "3                                      10   \n",
       "4                                       6   \n",
       "\n",
       "   Curricular units 2nd sem (approved)  Curricular units 2nd sem (grade)  \\\n",
       "0                                    0                         -1.963267   \n",
       "1                                    6                          0.659487   \n",
       "2                                    0                         -1.963267   \n",
       "3                                    5                          0.416403   \n",
       "4                                    6                          0.531548   \n",
       "\n",
       "   Curricular units 2nd sem (without evaluations)  Unemployment rate  \\\n",
       "0                                               0          -0.287606   \n",
       "1                                               0           0.876123   \n",
       "2                                               0          -0.287606   \n",
       "3                                               0          -0.813161   \n",
       "4                                               0           0.876123   \n",
       "\n",
       "   Inflation rate       GDP  \n",
       "0        0.124372  0.765674  \n",
       "1       -1.105097  0.347160  \n",
       "2        0.124372  0.765674  \n",
       "3       -1.466705 -1.375356  \n",
       "4       -1.105097  0.347160  \n",
       "\n",
       "[5 rows x 36 columns]"
      ]
     },
     "execution_count": 11,
     "metadata": {},
     "output_type": "execute_result"
    }
   ],
   "source": [
    "X = data.iloc[: , :-1]\n",
    "X.head()"
   ]
  },
  {
   "cell_type": "code",
   "execution_count": 12,
   "metadata": {},
   "outputs": [
    {
     "data": {
      "text/plain": [
       "(4424, 36)"
      ]
     },
     "execution_count": 12,
     "metadata": {},
     "output_type": "execute_result"
    }
   ],
   "source": [
    "X = X.to_numpy()\n",
    "X.shape"
   ]
  },
  {
   "cell_type": "code",
   "execution_count": 13,
   "metadata": {},
   "outputs": [
    {
     "data": {
      "application/vnd.microsoft.datawrangler.viewer.v0+json": {
       "columns": [
        {
         "name": "index",
         "rawType": "int64",
         "type": "integer"
        },
        {
         "name": "Target",
         "rawType": "int64",
         "type": "integer"
        }
       ],
       "ref": "9f6568a8-3308-4c49-87d8-944d982b0073",
       "rows": [
        [
         "0",
         "0"
        ],
        [
         "1",
         "1"
        ],
        [
         "2",
         "0"
        ],
        [
         "3",
         "1"
        ],
        [
         "4",
         "1"
        ]
       ],
       "shape": {
        "columns": 1,
        "rows": 5
       }
      },
      "text/plain": [
       "0    0\n",
       "1    1\n",
       "2    0\n",
       "3    1\n",
       "4    1\n",
       "Name: Target, dtype: int64"
      ]
     },
     "execution_count": 13,
     "metadata": {},
     "output_type": "execute_result"
    }
   ],
   "source": [
    "Y = data.iloc[:, -1]\n",
    "Y.head()"
   ]
  },
  {
   "cell_type": "code",
   "execution_count": 14,
   "metadata": {},
   "outputs": [
    {
     "data": {
      "text/plain": [
       "(4424,)"
      ]
     },
     "execution_count": 14,
     "metadata": {},
     "output_type": "execute_result"
    }
   ],
   "source": [
    "Y = Y.to_numpy()\n",
    "Y.shape"
   ]
  },
  {
   "cell_type": "code",
   "execution_count": 15,
   "metadata": {},
   "outputs": [],
   "source": [
    "N = int(0.8 * X.shape[0])\n",
    "X_train, X_test = np.array_split(X, [N])\n",
    "y_train, y_test = np.array_split(Y, [N])"
   ]
  },
  {
   "cell_type": "code",
   "execution_count": 16,
   "metadata": {},
   "outputs": [
    {
     "name": "stdout",
     "output_type": "stream",
     "text": [
      "Train:  (3539, 36) (3539,)\n",
      "Test:  (885, 36) (885,)\n"
     ]
    }
   ],
   "source": [
    "print('Train: ', X_train.shape, y_train.shape)\n",
    "print('Test: ', X_test.shape, y_test.shape)"
   ]
  },
  {
   "cell_type": "markdown",
   "metadata": {},
   "source": [
    "### Building Logistic Regression"
   ]
  },
  {
   "cell_type": "code",
   "execution_count": 17,
   "metadata": {},
   "outputs": [],
   "source": [
    "class LR:\n",
    "    def __init__(self, epoch: int, lr: float) -> None:\n",
    "        self.epoch = epoch\n",
    "        self.lr = lr\n",
    "        self.losses = []\n",
    "        self.metrics = []\n",
    "\n",
    "    def sigmoid(self, z: np.ndarray) -> np.ndarray:\n",
    "        return 1/(1 + np.exp(-z))\n",
    "    \n",
    "    def loss_function(self, y: np.ndarray, y_hat: np.ndarray) -> float:\n",
    "        return -(y * np.log(y_hat + 10e-5) + (1 - y) * np.log(1 - y_hat + 10e-5)).mean()\n",
    "    \n",
    "    def accuracy(self, y: np.ndarray, y_hat: np.ndarray) -> float:\n",
    "        return (1 - np.abs(y - y_hat).mean())\n",
    "    \n",
    "    def fit(self, X: np.ndarray, y: np.ndarray) -> None:\n",
    "        n = X.shape[0] # số lượng mẫu\n",
    "        d = X.shape[1] # số thuộc tính\n",
    "        self.theta = np.zeros((d, 1))\n",
    "        for e in range(self.epoch):\n",
    "            # Forward\n",
    "            y_hat = self.predict(X)\n",
    "            # Backward\n",
    "            diff = y_hat - y\n",
    "            gradient = (1/n) * np.matmul(X.T, diff)\n",
    "            self.theta -= self.lr * gradient\n",
    "            # Evaluating\n",
    "            y_hat = self.predict(X)\n",
    "            loss = self.loss_function(y, y_hat)\n",
    "            acc = self.accuracy(y, y_hat)\n",
    "            self.losses.append(loss)\n",
    "            self.metrics.append(acc)\n",
    "\n",
    "    def predict(self, X: np.ndarray) -> np.ndarray:\n",
    "        z = np.matmul(X, self.theta)\n",
    "        y_hat = self.sigmoid(z)\n",
    "        return y_hat"
   ]
  },
  {
   "cell_type": "code",
   "execution_count": 18,
   "metadata": {},
   "outputs": [
    {
     "name": "stderr",
     "output_type": "stream",
     "text": [
      "C:\\Users\\Nguyen Tram\\AppData\\Local\\Temp\\ipykernel_6092\\1138172137.py:9: RuntimeWarning: overflow encountered in exp\n",
      "  return 1/(1 + np.exp(-z))\n"
     ]
    }
   ],
   "source": [
    "logistic_reg = LR(500, 0.01)\n",
    "logistic_reg.fit(X_train, y_train[:, None])"
   ]
  },
  {
   "cell_type": "code",
   "execution_count": 19,
   "metadata": {},
   "outputs": [
    {
     "data": {
      "text/plain": [
       "<Axes: >"
      ]
     },
     "execution_count": 19,
     "metadata": {},
     "output_type": "execute_result"
    },
    {
     "data": {
      "image/png": "[encoded data removed]",
      "text/plain": [
       "<Figure size 1200x900 with 1 Axes>"
      ]
     },
     "metadata": {},
     "output_type": "display_data"
    }
   ],
   "source": [
    "plt.figure(figsize=(12,9))\n",
    "sns.lineplot(logistic_reg.losses)"
   ]
  },
  {
   "cell_type": "code",
   "execution_count": 20,
   "metadata": {},
   "outputs": [
    {
     "name": "stderr",
     "output_type": "stream",
     "text": [
      "C:\\Users\\Nguyen Tram\\AppData\\Local\\Temp\\ipykernel_6092\\1138172137.py:9: RuntimeWarning: overflow encountered in exp\n",
      "  return 1/(1 + np.exp(-z))\n"
     ]
    }
   ],
   "source": [
    "y_hat_test = logistic_reg.predict(X_test)"
   ]
  },
  {
   "cell_type": "code",
   "execution_count": 21,
   "metadata": {},
   "outputs": [
    {
     "name": "stdout",
     "output_type": "stream",
     "text": [
      "Accuracy:  0.5209039548022598\n"
     ]
    }
   ],
   "source": [
    "accuracy = logistic_reg.accuracy(y_test, y_hat_test)\n",
    "print('Accuracy: ', accuracy)"
   ]
  }
 ],
 "metadata": {
  "kernelspec": {
   "display_name": "Python 3",
   "language": "python",
   "name": "python3"
  },
  "language_info": {
   "codemirror_mode": {
    "name": "ipython",
    "version": 3
   },
   "file_extension": ".py",
   "mimetype": "text/x-python",
   "name": "python",
   "nbconvert_exporter": "python",
   "pygments_lexer": "ipython3",
   "version": "3.13.7"
  }
 },
 "nbformat": 4,
 "nbformat_minor": 2
}
